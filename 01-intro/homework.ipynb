{
 "cells": [
  {
   "cell_type": "code",
   "execution_count": 1,
   "metadata": {},
   "outputs": [
    {
     "data": {
      "text/plain": [
       "'1.21.5'"
      ]
     },
     "execution_count": 1,
     "metadata": {},
     "output_type": "execute_result"
    }
   ],
   "source": [
    "# Question 1\n",
    "# What's the version of NumPy that you installed?\n",
    "\n",
    "import numpy as np\n",
    "\n",
    "np.__version__"
   ]
  },
  {
   "cell_type": "code",
   "execution_count": 3,
   "metadata": {},
   "outputs": [
    {
     "name": "stdout",
     "output_type": "stream",
     "text": [
      "--2022-09-07 09:25:42--  https://raw.githubusercontent.com/alexeygrigorev/mlbookcamp-code/master/chapter-02-car-price/data.csv\n",
      "Resolviendo raw.githubusercontent.com (raw.githubusercontent.com)... 185.199.110.133, 185.199.109.133, 185.199.111.133, ...\n",
      "Conectando con raw.githubusercontent.com (raw.githubusercontent.com)[185.199.110.133]:443... conectado.\n",
      "Petición HTTP enviada, esperando respuesta... 200 OK\n",
      "Longitud: 1475504 (1,4M) [text/plain]\n",
      "Guardando como: “data/data.csv”\n",
      "\n",
      "data/data.csv       100%[===================>]   1,41M  6,22MB/s    en 0,2s    \n",
      "\n",
      "2022-09-07 09:25:43 (6,22 MB/s) - “data/data.csv” guardado [1475504/1475504]\n",
      "\n"
     ]
    }
   ],
   "source": [
    "# Question 2\n",
    "# Download Data\n",
    "!wget https://raw.githubusercontent.com/alexeygrigorev/mlbookcamp-code/master/chapter-02-car-price/data.csv -O data/data.csv"
   ]
  },
  {
   "cell_type": "code",
   "execution_count": 101,
   "metadata": {},
   "outputs": [
    {
     "name": "stdout",
     "output_type": "stream",
     "text": [
      "<class 'pandas.core.frame.DataFrame'>\n",
      "RangeIndex: 11914 entries, 0 to 11913\n",
      "Data columns (total 16 columns):\n",
      " #   Column             Non-Null Count  Dtype  \n",
      "---  ------             --------------  -----  \n",
      " 0   Make               11914 non-null  object \n",
      " 1   Model              11914 non-null  object \n",
      " 2   Year               11914 non-null  int64  \n",
      " 3   Engine Fuel Type   11911 non-null  object \n",
      " 4   Engine HP          11845 non-null  float64\n",
      " 5   Engine Cylinders   11884 non-null  float64\n",
      " 6   Transmission Type  11914 non-null  object \n",
      " 7   Driven_Wheels      11914 non-null  object \n",
      " 8   Number of Doors    11908 non-null  float64\n",
      " 9   Market Category    8172 non-null   object \n",
      " 10  Vehicle Size       11914 non-null  object \n",
      " 11  Vehicle Style      11914 non-null  object \n",
      " 12  highway MPG        11914 non-null  int64  \n",
      " 13  city mpg           11914 non-null  int64  \n",
      " 14  Popularity         11914 non-null  int64  \n",
      " 15  MSRP               11914 non-null  int64  \n",
      "dtypes: float64(3), int64(5), object(8)\n",
      "memory usage: 1.5+ MB\n",
      "None\n",
      "(11914, 16)\n"
     ]
    }
   ],
   "source": [
    "# How many records are in the dataset?\n",
    "\n",
    "import pandas as pd\n",
    "\n",
    "df = pd.read_csv('data/data.csv')\n",
    "print(df.info())\n",
    "print(df.shape)"
   ]
  },
  {
   "cell_type": "code",
   "execution_count": 59,
   "metadata": {},
   "outputs": [
    {
     "data": {
      "text/html": [
       "<div>\n",
       "<style scoped>\n",
       "    .dataframe tbody tr th:only-of-type {\n",
       "        vertical-align: middle;\n",
       "    }\n",
       "\n",
       "    .dataframe tbody tr th {\n",
       "        vertical-align: top;\n",
       "    }\n",
       "\n",
       "    .dataframe thead th {\n",
       "        text-align: right;\n",
       "    }\n",
       "</style>\n",
       "<table border=\"1\" class=\"dataframe\">\n",
       "  <thead>\n",
       "    <tr style=\"text-align: right;\">\n",
       "      <th></th>\n",
       "      <th>Make</th>\n",
       "      <th>Model</th>\n",
       "      <th>Year</th>\n",
       "      <th>Engine Fuel Type</th>\n",
       "      <th>Engine HP</th>\n",
       "      <th>Engine Cylinders</th>\n",
       "      <th>Transmission Type</th>\n",
       "      <th>Driven_Wheels</th>\n",
       "      <th>Number of Doors</th>\n",
       "      <th>Market Category</th>\n",
       "      <th>Vehicle Size</th>\n",
       "      <th>Vehicle Style</th>\n",
       "      <th>highway MPG</th>\n",
       "      <th>city mpg</th>\n",
       "      <th>Popularity</th>\n",
       "      <th>MSRP</th>\n",
       "    </tr>\n",
       "  </thead>\n",
       "  <tbody>\n",
       "    <tr>\n",
       "      <th>0</th>\n",
       "      <td>BMW</td>\n",
       "      <td>1 Series M</td>\n",
       "      <td>2011</td>\n",
       "      <td>premium unleaded (required)</td>\n",
       "      <td>335.0</td>\n",
       "      <td>6.0</td>\n",
       "      <td>MANUAL</td>\n",
       "      <td>rear wheel drive</td>\n",
       "      <td>2.0</td>\n",
       "      <td>Factory Tuner,Luxury,High-Performance</td>\n",
       "      <td>Compact</td>\n",
       "      <td>Coupe</td>\n",
       "      <td>26</td>\n",
       "      <td>19</td>\n",
       "      <td>3916</td>\n",
       "      <td>46135</td>\n",
       "    </tr>\n",
       "    <tr>\n",
       "      <th>1</th>\n",
       "      <td>BMW</td>\n",
       "      <td>1 Series</td>\n",
       "      <td>2011</td>\n",
       "      <td>premium unleaded (required)</td>\n",
       "      <td>300.0</td>\n",
       "      <td>6.0</td>\n",
       "      <td>MANUAL</td>\n",
       "      <td>rear wheel drive</td>\n",
       "      <td>2.0</td>\n",
       "      <td>Luxury,Performance</td>\n",
       "      <td>Compact</td>\n",
       "      <td>Convertible</td>\n",
       "      <td>28</td>\n",
       "      <td>19</td>\n",
       "      <td>3916</td>\n",
       "      <td>40650</td>\n",
       "    </tr>\n",
       "    <tr>\n",
       "      <th>2</th>\n",
       "      <td>BMW</td>\n",
       "      <td>1 Series</td>\n",
       "      <td>2011</td>\n",
       "      <td>premium unleaded (required)</td>\n",
       "      <td>300.0</td>\n",
       "      <td>6.0</td>\n",
       "      <td>MANUAL</td>\n",
       "      <td>rear wheel drive</td>\n",
       "      <td>2.0</td>\n",
       "      <td>Luxury,High-Performance</td>\n",
       "      <td>Compact</td>\n",
       "      <td>Coupe</td>\n",
       "      <td>28</td>\n",
       "      <td>20</td>\n",
       "      <td>3916</td>\n",
       "      <td>36350</td>\n",
       "    </tr>\n",
       "  </tbody>\n",
       "</table>\n",
       "</div>"
      ],
      "text/plain": [
       "  Make       Model  Year             Engine Fuel Type  Engine HP  \\\n",
       "0  BMW  1 Series M  2011  premium unleaded (required)      335.0   \n",
       "1  BMW    1 Series  2011  premium unleaded (required)      300.0   \n",
       "2  BMW    1 Series  2011  premium unleaded (required)      300.0   \n",
       "\n",
       "   Engine Cylinders Transmission Type     Driven_Wheels  Number of Doors  \\\n",
       "0               6.0            MANUAL  rear wheel drive              2.0   \n",
       "1               6.0            MANUAL  rear wheel drive              2.0   \n",
       "2               6.0            MANUAL  rear wheel drive              2.0   \n",
       "\n",
       "                         Market Category Vehicle Size Vehicle Style  \\\n",
       "0  Factory Tuner,Luxury,High-Performance      Compact         Coupe   \n",
       "1                     Luxury,Performance      Compact   Convertible   \n",
       "2                Luxury,High-Performance      Compact         Coupe   \n",
       "\n",
       "   highway MPG  city mpg  Popularity   MSRP  \n",
       "0           26        19        3916  46135  \n",
       "1           28        19        3916  40650  \n",
       "2           28        20        3916  36350  "
      ]
     },
     "execution_count": 59,
     "metadata": {},
     "output_type": "execute_result"
    }
   ],
   "source": [
    "df.head(3)"
   ]
  },
  {
   "cell_type": "code",
   "execution_count": 24,
   "metadata": {},
   "outputs": [
    {
     "data": {
      "text/plain": [
       "Make\n",
       "Chevrolet     1123\n",
       "Ford           881\n",
       "Volkswagen     809\n",
       "dtype: int64"
      ]
     },
     "execution_count": 24,
     "metadata": {},
     "output_type": "execute_result"
    }
   ],
   "source": [
    "# Question 3\n",
    "# Who are the most popular car manufacturers (top-3) according to the dataset?\n",
    "\n",
    "df.groupby('Make').size().sort_values(ascending=False).head(3)"
   ]
  },
  {
   "cell_type": "code",
   "execution_count": 45,
   "metadata": {},
   "outputs": [
    {
     "data": {
      "text/plain": [
       "34"
      ]
     },
     "execution_count": 45,
     "metadata": {},
     "output_type": "execute_result"
    }
   ],
   "source": [
    "# Question 4\n",
    "# What's the number of unique Audi car models in the dataset?\n",
    "\n",
    "audi = df[df['Make']=='Audi']\n",
    "audi['Model'].nunique()"
   ]
  },
  {
   "cell_type": "code",
   "execution_count": 55,
   "metadata": {},
   "outputs": [
    {
     "data": {
      "text/plain": [
       "5"
      ]
     },
     "execution_count": 55,
     "metadata": {},
     "output_type": "execute_result"
    }
   ],
   "source": [
    "# Question 5\n",
    "# How many columns in the dataset have missing values?\n",
    "\n",
    "df.columns[df.isnull().any()].size"
   ]
  },
  {
   "cell_type": "code",
   "execution_count": 102,
   "metadata": {},
   "outputs": [
    {
     "data": {
      "text/plain": [
       "Engine Cylinders\n",
       "4.0     4752\n",
       "6.0     4489\n",
       "8.0     2031\n",
       "12.0     230\n",
       "5.0      225\n",
       "10.0      68\n",
       "0.0       56\n",
       "3.0       30\n",
       "16.0       3\n",
       "dtype: int64"
      ]
     },
     "execution_count": 102,
     "metadata": {},
     "output_type": "execute_result"
    }
   ],
   "source": [
    "df.groupby('Engine Cylinders').size().sort_values(ascending=False).head(20)"
   ]
  },
  {
   "cell_type": "code",
   "execution_count": 77,
   "metadata": {},
   "outputs": [
    {
     "data": {
      "text/plain": [
       "Make                         Chevrolet\n",
       "Model                   Silverado 1500\n",
       "Year                              2015\n",
       "Engine Fuel Type      regular unleaded\n",
       "Engine HP                        200.0\n",
       "Engine Cylinders                   4.0\n",
       "Transmission Type            AUTOMATIC\n",
       "Driven_Wheels        front wheel drive\n",
       "Number of Doors                    4.0\n",
       "Market Category              Crossover\n",
       "Vehicle Size                   Compact\n",
       "Vehicle Style                    Sedan\n",
       "highway MPG                         24\n",
       "city mpg                            17\n",
       "Popularity                        1385\n",
       "MSRP                              2000\n",
       "Name: 0, dtype: object"
      ]
     },
     "execution_count": 77,
     "metadata": {},
     "output_type": "execute_result"
    }
   ],
   "source": [
    "df.mode().iloc[0]"
   ]
  },
  {
   "cell_type": "code",
   "execution_count": 82,
   "metadata": {},
   "outputs": [
    {
     "data": {
      "text/plain": [
       "0    4.0\n",
       "Name: Engine Cylinders, dtype: float64"
      ]
     },
     "execution_count": 82,
     "metadata": {},
     "output_type": "execute_result"
    }
   ],
   "source": [
    "df['Engine Cylinders'].mode().iloc[0]"
   ]
  },
  {
   "cell_type": "code",
   "execution_count": 108,
   "metadata": {},
   "outputs": [
    {
     "name": "stdout",
     "output_type": "stream",
     "text": [
      "Median:  6.0\n",
      "Most Frequent:  4.0\n",
      "Median after fillna:  6.0\n"
     ]
    }
   ],
   "source": [
    "# Question 6\n",
    "# Find the median value of \"Engine Cylinders\" column in the dataset.\n",
    "print(f'Median: ', df['Engine Cylinders'].median())\n",
    "# Next, calculate the most frequent value of the same \"Engine Cylinders\".\n",
    "print(f'Most Frequent: ', df['Engine Cylinders'].mode().iloc[0])\n",
    "# Use the fillna method to fill the missing values in \"Engine Cylinders\" with the most frequent value from the previous step.\n",
    "df['Engine Cylinders'].fillna(df['Engine Cylinders'].mode().iloc[0], inplace=True)\n",
    "# Now, calculate the median value of \"Engine Cylinders\" once again.\n",
    "print(f'Median after fillna: ',df['Engine Cylinders'].median())"
   ]
  },
  {
   "cell_type": "code",
   "execution_count": 110,
   "metadata": {},
   "outputs": [
    {
     "data": {
      "text/plain": [
       "11914"
      ]
     },
     "execution_count": 110,
     "metadata": {},
     "output_type": "execute_result"
    }
   ],
   "source": [
    "df['Engine Cylinders'].isnull().size"
   ]
  },
  {
   "cell_type": "code",
   "execution_count": 169,
   "metadata": {},
   "outputs": [
    {
     "name": "stdout",
     "output_type": "stream",
     "text": [
      "X:           (9, 2)\n",
      "X.T:         (2, 9)\n",
      "X@X.T:       (9, 9)\n",
      "XTX_invert:  (9, 9)\n",
      "(y:          (9,)\n"
     ]
    },
    {
     "data": {
      "text/plain": [
       "array([-1.52221667e+20,  4.95395959e+18])"
      ]
     },
     "execution_count": 169,
     "metadata": {},
     "output_type": "execute_result"
    }
   ],
   "source": [
    "# Question 7\n",
    "# Select all the \"Lotus\" cars from the dataset.\n",
    "df_lotus = df[df['Make'] == 'Lotus']\n",
    "# Select only columns \"Engine HP\", \"Engine Cylinders\".\n",
    "df_lotus_engine = df_lotus[['Engine HP', 'Engine Cylinders']]\n",
    "# Now drop all duplicated rows using drop_duplicates method (you should get a dataframe with 9 rows).\n",
    "\n",
    "# Get the underlying NumPy array. Let's call it X.\n",
    "X = df_lotus_engine.drop_duplicates().to_numpy()\n",
    "# Compute matrix-matrix multiplication between the transpose of X and X. To get the transpose, use X.T. Let's call the result XTX.\n",
    "XTX = X@X.T\n",
    "# Invert XTX.\n",
    "XTX_invert = np.linalg.inv(XTX)\n",
    "# Create an array y with values [1100, 800, 750, 850, 1300, 1000, 1000, 1300, 800].\n",
    "y = np.array([1100, 800, 750, 850, 1300, 1000, 1000, 1300, 800])\n",
    "# Multiply the inverse of XTX with the transpose of X, and then multiply the result by y. Call the result w.\n",
    "\n",
    "print(f'X:          ',X.shape)\n",
    "print(f'X.T:        ',X.T.shape)\n",
    "# What's the value of the first element of w?\n",
    "#w\n",
    "print(f'X@X.T:      ', XTX.shape)\n",
    "print(f'XTX_invert: ', XTX_invert.shape)\n",
    "print(f'(y:         ', y.shape)\n",
    "\n",
    "np.dot(X.T@XTX_invert,y)"
   ]
  },
  {
   "cell_type": "code",
   "execution_count": 152,
   "metadata": {},
   "outputs": [
    {
     "data": {
      "text/plain": [
       "array([[189., 218., 217., 350., 400., 276., 345., 257., 240.],\n",
       "       [  4.,   4.,   4.,   8.,   6.,   6.,   6.,   4.,   4.]])"
      ]
     },
     "execution_count": 152,
     "metadata": {},
     "output_type": "execute_result"
    }
   ],
   "source": [
    "X.T"
   ]
  },
  {
   "cell_type": "code",
   "execution_count": 153,
   "metadata": {},
   "outputs": [
    {
     "data": {
      "text/plain": [
       "array([[ 4.87854228e+14,  4.87854228e+14, -2.43927114e+14,\n",
       "        -4.43700836e+02,  0.00000000e+00,  0.00000000e+00,\n",
       "         9.75708456e+14,  0.00000000e+00, -5.69668096e+13],\n",
       "       [-1.24321703e+18,  1.21537533e+18,  1.04678949e+18,\n",
       "         1.19309393e+06,  1.54368015e+18,  1.24322538e+18,\n",
       "        -2.34615637e+18, -2.88769717e+17, -1.39803086e+18],\n",
       "       [ 3.10909462e+30, -3.00802229e+30, -2.60616862e+30,\n",
       "        -2.92378543e+18, -3.80766291e+30, -3.09060098e+30,\n",
       "         5.80287311e+30,  7.16740439e+29,  3.43144202e+30],\n",
       "       [-3.76282469e+29,  3.63025500e+29,  3.15826586e+29,\n",
       "         3.51724729e+17,  4.59903441e+29,  3.73803774e+29,\n",
       "        -7.01429734e+29, -8.57588282e+28, -4.15227010e+29],\n",
       "       [ 7.99442796e+17, -7.82411008e+17, -6.77374261e+17,\n",
       "         2.25179981e+15, -9.88182636e+17, -8.00396110e+17,\n",
       "         1.50711850e+18,  1.86616235e+17,  8.91413013e+17],\n",
       "       [ 2.85365708e+26,  3.64589806e+26, -1.90821110e+27,\n",
       "         2.00247123e+15,  1.18514900e+26,  1.21969027e+26,\n",
       "         1.21956350e+26, -8.22357699e+26,  1.53695287e+27],\n",
       "       [-1.74768120e+30,  1.69509711e+30,  1.46962641e+30,\n",
       "         1.65267017e+18,  2.14278438e+30,  1.73635537e+30,\n",
       "        -3.26599444e+30, -4.05037528e+29, -1.93172276e+30],\n",
       "       [-2.11693639e+29,  2.03875566e+29,  1.76452016e+29,\n",
       "         1.96784589e+17,  2.56642439e+29,  2.09779057e+29,\n",
       "        -3.94085662e+29, -4.75446193e+28, -2.29593075e+29],\n",
       "       [ 4.76257703e+29, -4.65096826e+29, -4.03513861e+29,\n",
       "        -4.61835279e+17, -5.83140762e+29, -4.71501635e+29,\n",
       "         8.92880753e+29,  1.11111665e+29,  5.23883786e+29]])"
      ]
     },
     "execution_count": 153,
     "metadata": {},
     "output_type": "execute_result"
    }
   ],
   "source": [
    "XTX_invert"
   ]
  },
  {
   "cell_type": "code",
   "execution_count": null,
   "metadata": {},
   "outputs": [],
   "source": []
  }
 ],
 "metadata": {
  "kernelspec": {
   "display_name": "Python 3.9.13 ('ml-zoomcamp')",
   "language": "python",
   "name": "python3"
  },
  "language_info": {
   "codemirror_mode": {
    "name": "ipython",
    "version": 3
   },
   "file_extension": ".py",
   "mimetype": "text/x-python",
   "name": "python",
   "nbconvert_exporter": "python",
   "pygments_lexer": "ipython3",
   "version": "3.9.13"
  },
  "orig_nbformat": 4,
  "vscode": {
   "interpreter": {
    "hash": "18efaddfc2df86a02fbf385e016cf4c6715c8c91c60059104e2ad1e935d53388"
   }
  }
 },
 "nbformat": 4,
 "nbformat_minor": 2
}
